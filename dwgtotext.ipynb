{
  "nbformat": 4,
  "nbformat_minor": 0,
  "metadata": {
    "colab": {
      "name": "Untitled7.ipynb",
      "provenance": [],
      "include_colab_link": true
    },
    "kernelspec": {
      "name": "python3",
      "display_name": "Python 3"
    }
  },
  "cells": [
    {
      "cell_type": "markdown",
      "metadata": {
        "id": "view-in-github",
        "colab_type": "text"
      },
      "source": [
        "<a href=\"https://colab.research.google.com/github/hweewone/sample/blob/master/dwgtotext.ipynb\" target=\"_parent\"><img src=\"https://colab.research.google.com/assets/colab-badge.svg\" alt=\"Open In Colab\"/></a>"
      ]
    },
    {
      "cell_type": "code",
      "metadata": {
        "id": "oT6HqsNkpJv9",
        "colab_type": "code",
        "colab": {}
      },
      "source": [
        "from __future__ import print_function"
      ],
      "execution_count": 0,
      "outputs": []
    },
    {
      "cell_type": "code",
      "metadata": {
        "id": "rz9Zh6NEpNC3",
        "colab_type": "code",
        "colab": {}
      },
      "source": [
        "from os.path import join, dirname, abspath\n",
        "from xlutils.copy import copy\n",
        "import xlrd\n",
        "import xlwt \n",
        "from pyautocad import Autocad, APoint\n",
        "import os\n",
        "import win32com.client"
      ],
      "execution_count": 0,
      "outputs": []
    },
    {
      "cell_type": "code",
      "metadata": {
        "id": "MY-1KU1Fpbed",
        "colab_type": "code",
        "colab": {}
      },
      "source": [
        "from xlutils.copy import copy\n",
        "import xlrd\n",
        "import xlwt \n",
        "from pyautocad import Autocad, APoint\n",
        "import os\n",
        "import win32com.client"
      ],
      "execution_count": 0,
      "outputs": []
    }
  ]
}